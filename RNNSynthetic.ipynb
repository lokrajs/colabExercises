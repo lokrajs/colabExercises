{
  "nbformat": 4,
  "nbformat_minor": 0,
  "metadata": {
    "colab": {
      "name": "RNNSynthetic.ipynb",
      "provenance": [],
      "authorship_tag": "ABX9TyMSUpkBGF57ddmfJr8/EEQX",
      "include_colab_link": true
    },
    "kernelspec": {
      "name": "python3",
      "display_name": "Python 3"
    },
    "language_info": {
      "name": "python"
    }
  },
  "cells": [
    {
      "cell_type": "markdown",
      "metadata": {
        "id": "view-in-github",
        "colab_type": "text"
      },
      "source": [
        "<a href=\"https://colab.research.google.com/github/lokrajs/colabExercises/blob/main/RNNSynthetic.ipynb\" target=\"_parent\"><img src=\"https://colab.research.google.com/assets/colab-badge.svg\" alt=\"Open In Colab\"/></a>"
      ]
    },
    {
      "cell_type": "code",
      "metadata": {
        "id": "8_Xjrtwa40xl"
      },
      "source": [
        "import tensorflow as tf\n",
        "import numpy as np\n",
        "import pandas as pd\n",
        "import matplotlib.pyplot as plt"
      ],
      "execution_count": 2,
      "outputs": []
    },
    {
      "cell_type": "code",
      "metadata": {
        "colab": {
          "base_uri": "https://localhost:8080/",
          "height": 266
        },
        "id": "F1VteLoZ5j06",
        "outputId": "885b38da-0986-4e3c-c204-d580ad5860ab"
      },
      "source": [
        "periodic_series = np.cos(0.2*np.arange(200)) + np.random.randn(200)*0.2\n",
        "\n",
        "plt.plot(periodic_series)\n",
        "plt.show()"
      ],
      "execution_count": 35,
      "outputs": [
        {
          "output_type": "display_data",
          "data": {
            "image/png": "[encoded data removed]",
            "text/plain": [
              "<Figure size 432x288 with 1 Axes>"
            ]
          },
          "metadata": {
            "tags": [],
            "needs_background": "light"
          }
        }
      ]
    },
    {
      "cell_type": "code",
      "metadata": {
        "colab": {
          "base_uri": "https://localhost:8080/"
        },
        "id": "CNGznlMJ6QBR",
        "outputId": "adc64a34-c8e5-4209-9e1a-8fd365caf465"
      },
      "source": [
        "print(periodic_series.shape)\n",
        "\n",
        "T = 10\n",
        "D = 1\n",
        "X = []\n",
        "Y = []\n",
        "for t in range(len(periodic_series)-T):\n",
        "  # append segments of length big T from the series data to the training data X\n",
        "  X.append(periodic_series[t:t+T])\n",
        "  # append the next Y after T steps to the training data Y\n",
        "  Y.append(periodic_series[t+T])\n",
        "\n",
        "# Need X to be in the shape of N x T x D \n",
        "# N should be 190 since there can only be N - T timed samples\n",
        "# T should be 10 just as predefined above\n",
        "# D should be 1 since we're looking only at this cosine function\n",
        "X = np.array(X).reshape(-1,T,1)\n",
        "print(X.shape)\n",
        "Y = np.array(Y)\n",
        "print(Y.shape)\n"
      ],
      "execution_count": 36,
      "outputs": [
        {
          "output_type": "stream",
          "text": [
            "(200,)\n",
            "(190, 10, 1)\n",
            "(190,)\n"
          ],
          "name": "stdout"
        }
      ]
    },
    {
      "cell_type": "code",
      "metadata": {
        "colab": {
          "base_uri": "https://localhost:8080/"
        },
        "id": "IUBe5NGv7cby",
        "outputId": "ab472b99-30c1-43c2-9e9b-e05afc36e457"
      },
      "source": [
        "# Autoregressive RNN model\n",
        "\n",
        "model = tf.keras.Sequential([\n",
        "    tf.keras.layers.Input((T,1)),\n",
        "    tf.keras.layers.SimpleRNN(5,activation=None),\n",
        "    tf.keras.layers.Dense(1)\n",
        "])\n",
        "\n",
        "\n",
        "model.compile(loss='mse',optimizer = tf.keras.optimizers.Adam(learning_rate=0.01))\n",
        "\n",
        "r = model.fit(\n",
        "    X[:-X.shape[0]//2], Y[:-Y.shape[0]//2],epochs=150,validation_data = (X[-X.shape[0]//2:], Y[-Y.shape[0]//2:])\n",
        ")\n"
      ],
      "execution_count": 46,
      "outputs": [
        {
          "output_type": "stream",
          "text": [
            "WARNING:tensorflow:Please add `keras.layers.InputLayer` instead of `keras.Input` to Sequential model. `keras.Input` is intended to be used by Functional model.\n",
            "Epoch 1/150\n",
            "3/3 [==============================] - 1s 101ms/step - loss: 0.9607 - val_loss: 0.3700\n",
            "Epoch 2/150\n",
            "3/3 [==============================] - 0s 14ms/step - loss: 0.2734 - val_loss: 0.1839\n",
            "Epoch 3/150\n",
            "3/3 [==============================] - 0s 14ms/step - loss: 0.1603 - val_loss: 0.1650\n",
            "Epoch 4/150\n",
            "3/3 [==============================] - 0s 12ms/step - loss: 0.1461 - val_loss: 0.1376\n",
            "Epoch 5/150\n",
            "3/3 [==============================] - 0s 13ms/step - loss: 0.1144 - val_loss: 0.1064\n",
            "Epoch 6/150\n",
            "3/3 [==============================] - 0s 12ms/step - loss: 0.0840 - val_loss: 0.0905\n",
            "Epoch 7/150\n",
            "3/3 [==============================] - 0s 12ms/step - loss: 0.0758 - val_loss: 0.0903\n",
            "Epoch 8/150\n",
            "3/3 [==============================] - 0s 13ms/step - loss: 0.0764 - val_loss: 0.0946\n",
            "Epoch 9/150\n",
            "3/3 [==============================] - 0s 13ms/step - loss: 0.0781 - val_loss: 0.0941\n",
            "Epoch 10/150\n",
            "3/3 [==============================] - 0s 12ms/step - loss: 0.0744 - val_loss: 0.0886\n",
            "Epoch 11/150\n",
            "3/3 [==============================] - 0s 12ms/step - loss: 0.0691 - val_loss: 0.0840\n",
            "Epoch 12/150\n",
            "3/3 [==============================] - 0s 12ms/step - loss: 0.0664 - val_loss: 0.0838\n",
            "Epoch 13/150\n",
            "3/3 [==============================] - 0s 12ms/step - loss: 0.0659 - val_loss: 0.0849\n",
            "Epoch 14/150\n",
            "3/3 [==============================] - 0s 12ms/step - loss: 0.0666 - val_loss: 0.0845\n",
            "Epoch 15/150\n",
            "3/3 [==============================] - 0s 11ms/step - loss: 0.0648 - val_loss: 0.0828\n",
            "Epoch 16/150\n",
            "3/3 [==============================] - 0s 11ms/step - loss: 0.0641 - val_loss: 0.0820\n",
            "Epoch 17/150\n",
            "3/3 [==============================] - 0s 10ms/step - loss: 0.0628 - val_loss: 0.0822\n",
            "Epoch 18/150\n",
            "3/3 [==============================] - 0s 10ms/step - loss: 0.0625 - val_loss: 0.0820\n",
            "Epoch 19/150\n",
            "3/3 [==============================] - 0s 13ms/step - loss: 0.0619 - val_loss: 0.0814\n",
            "Epoch 20/150\n",
            "3/3 [==============================] - 0s 11ms/step - loss: 0.0613 - val_loss: 0.0808\n",
            "Epoch 21/150\n",
            "3/3 [==============================] - 0s 10ms/step - loss: 0.0607 - val_loss: 0.0803\n",
            "Epoch 22/150\n",
            "3/3 [==============================] - 0s 19ms/step - loss: 0.0603 - val_loss: 0.0801\n",
            "Epoch 23/150\n",
            "3/3 [==============================] - 0s 13ms/step - loss: 0.0601 - val_loss: 0.0800\n",
            "Epoch 24/150\n",
            "3/3 [==============================] - 0s 11ms/step - loss: 0.0598 - val_loss: 0.0794\n",
            "Epoch 25/150\n",
            "3/3 [==============================] - 0s 11ms/step - loss: 0.0591 - val_loss: 0.0791\n",
            "Epoch 26/150\n",
            "3/3 [==============================] - 0s 12ms/step - loss: 0.0587 - val_loss: 0.0788\n",
            "Epoch 27/150\n",
            "3/3 [==============================] - 0s 11ms/step - loss: 0.0584 - val_loss: 0.0786\n",
            "Epoch 28/150\n",
            "3/3 [==============================] - 0s 16ms/step - loss: 0.0581 - val_loss: 0.0784\n",
            "Epoch 29/150\n",
            "3/3 [==============================] - 0s 14ms/step - loss: 0.0579 - val_loss: 0.0780\n",
            "Epoch 30/150\n",
            "3/3 [==============================] - 0s 15ms/step - loss: 0.0573 - val_loss: 0.0774\n",
            "Epoch 31/150\n",
            "3/3 [==============================] - 0s 13ms/step - loss: 0.0569 - val_loss: 0.0769\n",
            "Epoch 32/150\n",
            "3/3 [==============================] - 0s 13ms/step - loss: 0.0568 - val_loss: 0.0766\n",
            "Epoch 33/150\n",
            "3/3 [==============================] - 0s 12ms/step - loss: 0.0567 - val_loss: 0.0764\n",
            "Epoch 34/150\n",
            "3/3 [==============================] - 0s 16ms/step - loss: 0.0566 - val_loss: 0.0762\n",
            "Epoch 35/150\n",
            "3/3 [==============================] - 0s 11ms/step - loss: 0.0557 - val_loss: 0.0758\n",
            "Epoch 36/150\n",
            "3/3 [==============================] - 0s 12ms/step - loss: 0.0559 - val_loss: 0.0751\n",
            "Epoch 37/150\n",
            "3/3 [==============================] - 0s 12ms/step - loss: 0.0548 - val_loss: 0.0748\n",
            "Epoch 38/150\n",
            "3/3 [==============================] - 0s 14ms/step - loss: 0.0546 - val_loss: 0.0747\n",
            "Epoch 39/150\n",
            "3/3 [==============================] - 0s 11ms/step - loss: 0.0544 - val_loss: 0.0743\n",
            "Epoch 40/150\n",
            "3/3 [==============================] - 0s 11ms/step - loss: 0.0540 - val_loss: 0.0739\n",
            "Epoch 41/150\n",
            "3/3 [==============================] - 0s 12ms/step - loss: 0.0535 - val_loss: 0.0733\n",
            "Epoch 42/150\n",
            "3/3 [==============================] - 0s 12ms/step - loss: 0.0536 - val_loss: 0.0728\n",
            "Epoch 43/150\n",
            "3/3 [==============================] - 0s 11ms/step - loss: 0.0530 - val_loss: 0.0725\n",
            "Epoch 44/150\n",
            "3/3 [==============================] - 0s 13ms/step - loss: 0.0536 - val_loss: 0.0723\n",
            "Epoch 45/150\n",
            "3/3 [==============================] - 0s 13ms/step - loss: 0.0523 - val_loss: 0.0721\n",
            "Epoch 46/150\n",
            "3/3 [==============================] - 0s 12ms/step - loss: 0.0521 - val_loss: 0.0715\n",
            "Epoch 47/150\n",
            "3/3 [==============================] - 0s 15ms/step - loss: 0.0517 - val_loss: 0.0712\n",
            "Epoch 48/150\n",
            "3/3 [==============================] - 0s 12ms/step - loss: 0.0514 - val_loss: 0.0706\n",
            "Epoch 49/150\n",
            "3/3 [==============================] - 0s 12ms/step - loss: 0.0512 - val_loss: 0.0702\n",
            "Epoch 50/150\n",
            "3/3 [==============================] - 0s 14ms/step - loss: 0.0508 - val_loss: 0.0701\n",
            "Epoch 51/150\n",
            "3/3 [==============================] - 0s 14ms/step - loss: 0.0507 - val_loss: 0.0700\n",
            "Epoch 52/150\n",
            "3/3 [==============================] - 0s 13ms/step - loss: 0.0502 - val_loss: 0.0694\n",
            "Epoch 53/150\n",
            "3/3 [==============================] - 0s 15ms/step - loss: 0.0504 - val_loss: 0.0688\n",
            "Epoch 54/150\n",
            "3/3 [==============================] - 0s 12ms/step - loss: 0.0498 - val_loss: 0.0686\n",
            "Epoch 55/150\n",
            "3/3 [==============================] - 0s 13ms/step - loss: 0.0494 - val_loss: 0.0684\n",
            "Epoch 56/150\n",
            "3/3 [==============================] - 0s 13ms/step - loss: 0.0495 - val_loss: 0.0678\n",
            "Epoch 57/150\n",
            "3/3 [==============================] - 0s 12ms/step - loss: 0.0492 - val_loss: 0.0674\n",
            "Epoch 58/150\n",
            "3/3 [==============================] - 0s 15ms/step - loss: 0.0487 - val_loss: 0.0675\n",
            "Epoch 59/150\n",
            "3/3 [==============================] - 0s 13ms/step - loss: 0.0497 - val_loss: 0.0677\n",
            "Epoch 60/150\n",
            "3/3 [==============================] - 0s 12ms/step - loss: 0.0487 - val_loss: 0.0664\n",
            "Epoch 61/150\n",
            "3/3 [==============================] - 0s 14ms/step - loss: 0.0481 - val_loss: 0.0661\n",
            "Epoch 62/150\n",
            "3/3 [==============================] - 0s 13ms/step - loss: 0.0478 - val_loss: 0.0661\n",
            "Epoch 63/150\n",
            "3/3 [==============================] - 0s 13ms/step - loss: 0.0475 - val_loss: 0.0663\n",
            "Epoch 64/150\n",
            "3/3 [==============================] - 0s 12ms/step - loss: 0.0477 - val_loss: 0.0653\n",
            "Epoch 65/150\n",
            "3/3 [==============================] - 0s 13ms/step - loss: 0.0468 - val_loss: 0.0650\n",
            "Epoch 66/150\n",
            "3/3 [==============================] - 0s 14ms/step - loss: 0.0470 - val_loss: 0.0648\n",
            "Epoch 67/150\n",
            "3/3 [==============================] - 0s 12ms/step - loss: 0.0482 - val_loss: 0.0652\n",
            "Epoch 68/150\n",
            "3/3 [==============================] - 0s 13ms/step - loss: 0.0463 - val_loss: 0.0644\n",
            "Epoch 69/150\n",
            "3/3 [==============================] - 0s 16ms/step - loss: 0.0461 - val_loss: 0.0640\n",
            "Epoch 70/150\n",
            "3/3 [==============================] - 0s 15ms/step - loss: 0.0458 - val_loss: 0.0637\n",
            "Epoch 71/150\n",
            "3/3 [==============================] - 0s 11ms/step - loss: 0.0458 - val_loss: 0.0636\n",
            "Epoch 72/150\n",
            "3/3 [==============================] - 0s 11ms/step - loss: 0.0454 - val_loss: 0.0633\n",
            "Epoch 73/150\n",
            "3/3 [==============================] - 0s 14ms/step - loss: 0.0464 - val_loss: 0.0632\n",
            "Epoch 74/150\n",
            "3/3 [==============================] - 0s 11ms/step - loss: 0.0455 - val_loss: 0.0628\n",
            "Epoch 75/150\n",
            "3/3 [==============================] - 0s 12ms/step - loss: 0.0450 - val_loss: 0.0629\n",
            "Epoch 76/150\n",
            "3/3 [==============================] - 0s 10ms/step - loss: 0.0453 - val_loss: 0.0630\n",
            "Epoch 77/150\n",
            "3/3 [==============================] - 0s 15ms/step - loss: 0.0446 - val_loss: 0.0622\n",
            "Epoch 78/150\n",
            "3/3 [==============================] - 0s 12ms/step - loss: 0.0445 - val_loss: 0.0618\n",
            "Epoch 79/150\n",
            "3/3 [==============================] - 0s 23ms/step - loss: 0.0444 - val_loss: 0.0621\n",
            "Epoch 80/150\n",
            "3/3 [==============================] - 0s 14ms/step - loss: 0.0446 - val_loss: 0.0626\n",
            "Epoch 81/150\n",
            "3/3 [==============================] - 0s 14ms/step - loss: 0.0451 - val_loss: 0.0613\n",
            "Epoch 82/150\n",
            "3/3 [==============================] - 0s 11ms/step - loss: 0.0455 - val_loss: 0.0609\n",
            "Epoch 83/150\n",
            "3/3 [==============================] - 0s 10ms/step - loss: 0.0440 - val_loss: 0.0630\n",
            "Epoch 84/150\n",
            "3/3 [==============================] - 0s 12ms/step - loss: 0.0445 - val_loss: 0.0623\n",
            "Epoch 85/150\n",
            "3/3 [==============================] - 0s 10ms/step - loss: 0.0438 - val_loss: 0.0606\n",
            "Epoch 86/150\n",
            "3/3 [==============================] - 0s 12ms/step - loss: 0.0433 - val_loss: 0.0609\n",
            "Epoch 87/150\n",
            "3/3 [==============================] - 0s 15ms/step - loss: 0.0436 - val_loss: 0.0604\n",
            "Epoch 88/150\n",
            "3/3 [==============================] - 0s 11ms/step - loss: 0.0430 - val_loss: 0.0609\n",
            "Epoch 89/150\n",
            "3/3 [==============================] - 0s 10ms/step - loss: 0.0430 - val_loss: 0.0608\n",
            "Epoch 90/150\n",
            "3/3 [==============================] - 0s 12ms/step - loss: 0.0430 - val_loss: 0.0600\n",
            "Epoch 91/150\n",
            "3/3 [==============================] - 0s 12ms/step - loss: 0.0432 - val_loss: 0.0603\n",
            "Epoch 92/150\n",
            "3/3 [==============================] - 0s 13ms/step - loss: 0.0446 - val_loss: 0.0601\n",
            "Epoch 93/150\n",
            "3/3 [==============================] - 0s 16ms/step - loss: 0.0435 - val_loss: 0.0610\n",
            "Epoch 94/150\n",
            "3/3 [==============================] - 0s 13ms/step - loss: 0.0432 - val_loss: 0.0591\n",
            "Epoch 95/150\n",
            "3/3 [==============================] - 0s 12ms/step - loss: 0.0423 - val_loss: 0.0599\n",
            "Epoch 96/150\n",
            "3/3 [==============================] - 0s 10ms/step - loss: 0.0435 - val_loss: 0.0604\n",
            "Epoch 97/150\n",
            "3/3 [==============================] - 0s 11ms/step - loss: 0.0438 - val_loss: 0.0606\n",
            "Epoch 98/150\n",
            "3/3 [==============================] - 0s 11ms/step - loss: 0.0443 - val_loss: 0.0607\n",
            "Epoch 99/150\n",
            "3/3 [==============================] - 0s 11ms/step - loss: 0.0427 - val_loss: 0.0587\n",
            "Epoch 100/150\n",
            "3/3 [==============================] - 0s 10ms/step - loss: 0.0425 - val_loss: 0.0590\n",
            "Epoch 101/150\n",
            "3/3 [==============================] - 0s 13ms/step - loss: 0.0422 - val_loss: 0.0608\n",
            "Epoch 102/150\n",
            "3/3 [==============================] - 0s 14ms/step - loss: 0.0427 - val_loss: 0.0589\n",
            "Epoch 103/150\n",
            "3/3 [==============================] - 0s 15ms/step - loss: 0.0429 - val_loss: 0.0594\n",
            "Epoch 104/150\n",
            "3/3 [==============================] - 0s 12ms/step - loss: 0.0428 - val_loss: 0.0592\n",
            "Epoch 105/150\n",
            "3/3 [==============================] - 0s 12ms/step - loss: 0.0415 - val_loss: 0.0582\n",
            "Epoch 106/150\n",
            "3/3 [==============================] - 0s 12ms/step - loss: 0.0423 - val_loss: 0.0598\n",
            "Epoch 107/150\n",
            "3/3 [==============================] - 0s 14ms/step - loss: 0.0419 - val_loss: 0.0602\n",
            "Epoch 108/150\n",
            "3/3 [==============================] - 0s 13ms/step - loss: 0.0412 - val_loss: 0.0582\n",
            "Epoch 109/150\n",
            "3/3 [==============================] - 0s 13ms/step - loss: 0.0431 - val_loss: 0.0587\n",
            "Epoch 110/150\n",
            "3/3 [==============================] - 0s 11ms/step - loss: 0.0419 - val_loss: 0.0604\n",
            "Epoch 111/150\n",
            "3/3 [==============================] - 0s 15ms/step - loss: 0.0416 - val_loss: 0.0589\n",
            "Epoch 112/150\n",
            "3/3 [==============================] - 0s 11ms/step - loss: 0.0423 - val_loss: 0.0585\n",
            "Epoch 113/150\n",
            "3/3 [==============================] - 0s 14ms/step - loss: 0.0420 - val_loss: 0.0584\n",
            "Epoch 114/150\n",
            "3/3 [==============================] - 0s 15ms/step - loss: 0.0419 - val_loss: 0.0578\n",
            "Epoch 115/150\n",
            "3/3 [==============================] - 0s 14ms/step - loss: 0.0445 - val_loss: 0.0613\n",
            "Epoch 116/150\n",
            "3/3 [==============================] - 0s 16ms/step - loss: 0.0508 - val_loss: 0.0606\n",
            "Epoch 117/150\n",
            "3/3 [==============================] - 0s 14ms/step - loss: 0.0438 - val_loss: 0.0629\n",
            "Epoch 118/150\n",
            "3/3 [==============================] - 0s 17ms/step - loss: 0.0474 - val_loss: 0.0665\n",
            "Epoch 119/150\n",
            "3/3 [==============================] - 0s 14ms/step - loss: 0.0482 - val_loss: 0.0592\n",
            "Epoch 120/150\n",
            "3/3 [==============================] - 0s 13ms/step - loss: 0.0474 - val_loss: 0.0609\n",
            "Epoch 121/150\n",
            "3/3 [==============================] - 0s 15ms/step - loss: 0.0428 - val_loss: 0.0653\n",
            "Epoch 122/150\n",
            "3/3 [==============================] - 0s 14ms/step - loss: 0.0460 - val_loss: 0.0581\n",
            "Epoch 123/150\n",
            "3/3 [==============================] - 0s 13ms/step - loss: 0.0497 - val_loss: 0.0620\n",
            "Epoch 124/150\n",
            "3/3 [==============================] - 0s 13ms/step - loss: 0.0429 - val_loss: 0.0701\n",
            "Epoch 125/150\n",
            "3/3 [==============================] - 0s 14ms/step - loss: 0.0521 - val_loss: 0.0580\n",
            "Epoch 126/150\n",
            "3/3 [==============================] - 0s 22ms/step - loss: 0.0495 - val_loss: 0.0634\n",
            "Epoch 127/150\n",
            "3/3 [==============================] - 0s 12ms/step - loss: 0.0443 - val_loss: 0.0632\n",
            "Epoch 128/150\n",
            "3/3 [==============================] - 0s 12ms/step - loss: 0.0438 - val_loss: 0.0589\n",
            "Epoch 129/150\n",
            "3/3 [==============================] - 0s 13ms/step - loss: 0.0428 - val_loss: 0.0599\n",
            "Epoch 130/150\n",
            "3/3 [==============================] - 0s 12ms/step - loss: 0.0417 - val_loss: 0.0603\n",
            "Epoch 131/150\n",
            "3/3 [==============================] - 0s 14ms/step - loss: 0.0418 - val_loss: 0.0589\n",
            "Epoch 132/150\n",
            "3/3 [==============================] - 0s 11ms/step - loss: 0.0410 - val_loss: 0.0589\n",
            "Epoch 133/150\n",
            "3/3 [==============================] - 0s 11ms/step - loss: 0.0429 - val_loss: 0.0594\n",
            "Epoch 134/150\n",
            "3/3 [==============================] - 0s 12ms/step - loss: 0.0411 - val_loss: 0.0581\n",
            "Epoch 135/150\n",
            "3/3 [==============================] - 0s 13ms/step - loss: 0.0423 - val_loss: 0.0586\n",
            "Epoch 136/150\n",
            "3/3 [==============================] - 0s 14ms/step - loss: 0.0408 - val_loss: 0.0602\n",
            "Epoch 137/150\n",
            "3/3 [==============================] - 0s 12ms/step - loss: 0.0425 - val_loss: 0.0596\n",
            "Epoch 138/150\n",
            "3/3 [==============================] - 0s 13ms/step - loss: 0.0407 - val_loss: 0.0579\n",
            "Epoch 139/150\n",
            "3/3 [==============================] - 0s 12ms/step - loss: 0.0417 - val_loss: 0.0580\n",
            "Epoch 140/150\n",
            "3/3 [==============================] - 0s 12ms/step - loss: 0.0418 - val_loss: 0.0583\n",
            "Epoch 141/150\n",
            "3/3 [==============================] - 0s 11ms/step - loss: 0.0399 - val_loss: 0.0597\n",
            "Epoch 142/150\n",
            "3/3 [==============================] - 0s 13ms/step - loss: 0.0416 - val_loss: 0.0579\n",
            "Epoch 143/150\n",
            "3/3 [==============================] - 0s 13ms/step - loss: 0.0410 - val_loss: 0.0577\n",
            "Epoch 144/150\n",
            "3/3 [==============================] - 0s 13ms/step - loss: 0.0403 - val_loss: 0.0586\n",
            "Epoch 145/150\n",
            "3/3 [==============================] - 0s 16ms/step - loss: 0.0410 - val_loss: 0.0585\n",
            "Epoch 146/150\n",
            "3/3 [==============================] - 0s 16ms/step - loss: 0.0398 - val_loss: 0.0584\n",
            "Epoch 147/150\n",
            "3/3 [==============================] - 0s 13ms/step - loss: 0.0414 - val_loss: 0.0579\n",
            "Epoch 148/150\n",
            "3/3 [==============================] - 0s 12ms/step - loss: 0.0410 - val_loss: 0.0574\n",
            "Epoch 149/150\n",
            "3/3 [==============================] - 0s 11ms/step - loss: 0.0430 - val_loss: 0.0576\n",
            "Epoch 150/150\n",
            "3/3 [==============================] - 0s 14ms/step - loss: 0.0420 - val_loss: 0.0583\n"
          ],
          "name": "stdout"
        }
      ]
    },
    {
      "cell_type": "code",
      "metadata": {
        "colab": {
          "base_uri": "https://localhost:8080/",
          "height": 285
        },
        "id": "VTHRPbXj-PWH",
        "outputId": "572c7b2a-98b9-4261-b845-470d2ac7a603"
      },
      "source": [
        "plt.plot(r.history['loss'],label='loss')\n",
        "plt.plot(r.history['val_loss'],label='validation loss')\n",
        "plt.legend()"
      ],
      "execution_count": 47,
      "outputs": [
        {
          "output_type": "execute_result",
          "data": {
            "text/plain": [
              "<matplotlib.legend.Legend at 0x7ff611fc5050>"
            ]
          },
          "metadata": {
            "tags": []
          },
          "execution_count": 47
        },
        {
          "output_type": "display_data",
          "data": {
            "image/png": "[encoded data removed]",
            "text/plain": [
              "<Figure size 432x288 with 1 Axes>"
            ]
          },
          "metadata": {
            "tags": [],
            "needs_background": "light"
          }
        }
      ]
    },
    {
      "cell_type": "code",
      "metadata": {
        "colab": {
          "base_uri": "https://localhost:8080/",
          "height": 282
        },
        "id": "P1siPNC2-b47",
        "outputId": "4d42a911-d522-4eba-ea9c-b9379afbe664"
      },
      "source": [
        "second = Y[-Y.shape[0]//2:]\n",
        "predictions = []\n",
        "\n",
        "latest = X[-X.shape[0]//2]\n",
        "\n",
        "while(len(predictions) < len(second)):\n",
        "  p = model.predict(latest.reshape(1,-1,1))[0,0]\n",
        "\n",
        "  predictions.append(p)\n",
        "\n",
        "  latest = np.roll(latest,-1)\n",
        "  latest[-1] = p\n",
        "\n",
        "plt.plot(second, label='forcast target')\n",
        "plt.plot(predictions,label='forecast predictions')\n",
        "plt.legend()\n"
      ],
      "execution_count": 48,
      "outputs": [
        {
          "output_type": "execute_result",
          "data": {
            "text/plain": [
              "<matplotlib.legend.Legend at 0x7ff60f9cb890>"
            ]
          },
          "metadata": {
            "tags": []
          },
          "execution_count": 48
        },
        {
          "output_type": "display_data",
          "data": {
            "image/png": "[encoded data removed]",
            "text/plain": [
              "<Figure size 432x288 with 1 Axes>"
            ]
          },
          "metadata": {
            "tags": [],
            "needs_background": "light"
          }
        }
      ]
    }
  ]
}