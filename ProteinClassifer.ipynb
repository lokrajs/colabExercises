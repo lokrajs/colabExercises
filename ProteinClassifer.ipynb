{
  "nbformat": 4,
  "nbformat_minor": 0,
  "metadata": {
    "colab": {
      "name": "ProteinClassifer.ipynb",
      "provenance": [],
      "collapsed_sections": [],
      "authorship_tag": "ABX9TyNWc9+ETyJ+ADH2rfKvRa4P",
      "include_colab_link": true
    },
    "kernelspec": {
      "name": "python3",
      "display_name": "Python 3"
    },
    "language_info": {
      "name": "python"
    }
  },
  "cells": [
    {
      "cell_type": "markdown",
      "metadata": {
        "id": "view-in-github",
        "colab_type": "text"
      },
      "source": [
        "<a href=\"https://colab.research.google.com/github/lokrajs/colabExercises/blob/main/ProteinClassifer.ipynb\" target=\"_parent\"><img src=\"https://colab.research.google.com/assets/colab-badge.svg\" alt=\"Open In Colab\"/></a>"
      ]
    },
    {
      "cell_type": "code",
      "metadata": {
        "id": "t0tc--AJbif-"
      },
      "source": [
        "import numpy as np\n",
        "import pandas as pd\n",
        "import matplotlib.pyplot as plt\n",
        "from sklearn.model_selection import train_test_split\n",
        "from sklearn import preprocessing\n",
        "import tensorflow as tf"
      ],
      "execution_count": null,
      "outputs": []
    },
    {
      "cell_type": "code",
      "metadata": {
        "colab": {
          "base_uri": "https://localhost:8080/"
        },
        "id": "o4-L0sc3boL5",
        "outputId": "042ce4fb-1401-4129-c4bf-4b3daaeba06a"
      },
      "source": [
        "!wget https://lazyprogrammer.me/course_files/exercises/ecoli.csv"
      ],
      "execution_count": null,
      "outputs": [
        {
          "output_type": "stream",
          "text": [
            "--2021-06-01 21:15:37--  https://lazyprogrammer.me/course_files/exercises/ecoli.csv\n",
            "Resolving lazyprogrammer.me (lazyprogrammer.me)... 104.21.23.210, 172.67.213.166, 2606:4700:3031::6815:17d2, ...\n",
            "Connecting to lazyprogrammer.me (lazyprogrammer.me)|104.21.23.210|:443... connected.\n",
            "HTTP request sent, awaiting response... 200 OK\n",
            "Length: 19487 (19K) [text/csv]\n",
            "Saving to: ‘ecoli.csv’\n",
            "\n",
            "ecoli.csv           100%[===================>]  19.03K  --.-KB/s    in 0s      \n",
            "\n",
            "2021-06-01 21:15:38 (59.2 MB/s) - ‘ecoli.csv’ saved [19487/19487]\n",
            "\n"
          ],
          "name": "stdout"
        }
      ]
    },
    {
      "cell_type": "code",
      "metadata": {
        "id": "jzdWDkyQbq0T"
      },
      "source": [
        "data = pd.read_csv('ecoli.csv',header=None)\n",
        "start = np.empty((1,9))\n",
        "X = data.to_numpy()\n",
        "for row in X:\n",
        "  start = np.vstack((start,np.array(row[0].split())))\n",
        "X = start[1:,1:-1]\n",
        "X = X.astype(np.float)\n",
        "Y = start[1:,-1]\n",
        "le = preprocessing.LabelEncoder()\n",
        "le = le.fit(Y)\n",
        "# le.classes_\n",
        "Y = le.transform(Y)"
      ],
      "execution_count": null,
      "outputs": []
    },
    {
      "cell_type": "code",
      "metadata": {
        "id": "0uF7NcYkbxxY"
      },
      "source": [
        "X_train,X_test,y_train,y_test = train_test_split(X,Y,test_size = 0.33)"
      ],
      "execution_count": null,
      "outputs": []
    },
    {
      "cell_type": "code",
      "metadata": {
        "colab": {
          "base_uri": "https://localhost:8080/"
        },
        "id": "VHL4EJNvnEwR",
        "outputId": "1e67797a-c068-4df5-ce52-0fb45f5a8d88"
      },
      "source": [
        "model = tf.keras.Sequential([\n",
        "      tf.keras.layers.InputLayer(7),\n",
        "      tf.keras.layers.Dense(128,activation='relu'),\n",
        "      tf.keras.layers.Dropout(0.15),\n",
        "      tf.keras.layers.Dense(64),\n",
        "      tf.keras.layers.Dense(8,activation='softmax')\n",
        "])\n",
        "model.compile(optimizer='adam',\n",
        "              loss='sparse_categorical_crossentropy',\n",
        "              metrics=['accuracy'])\n",
        "r = model.fit(X_train,y_train,validation_data=(X_test,y_test),epochs=150)"
      ],
      "execution_count": null,
      "outputs": [
        {
          "output_type": "stream",
          "text": [
            "Epoch 1/150\n",
            "8/8 [==============================] - 1s 24ms/step - loss: 2.0348 - accuracy: 0.3378 - val_loss: 1.8709 - val_accuracy: 0.4054\n",
            "Epoch 2/150\n",
            "8/8 [==============================] - 0s 5ms/step - loss: 1.7437 - accuracy: 0.4356 - val_loss: 1.7232 - val_accuracy: 0.4054\n",
            "Epoch 3/150\n",
            "8/8 [==============================] - 0s 7ms/step - loss: 1.5977 - accuracy: 0.4444 - val_loss: 1.6718 - val_accuracy: 0.4234\n",
            "Epoch 4/150\n",
            "8/8 [==============================] - 0s 9ms/step - loss: 1.5095 - accuracy: 0.5467 - val_loss: 1.6565 - val_accuracy: 0.6036\n",
            "Epoch 5/150\n",
            "8/8 [==============================] - 0s 7ms/step - loss: 1.4387 - accuracy: 0.6000 - val_loss: 1.6160 - val_accuracy: 0.6306\n",
            "Epoch 6/150\n",
            "8/8 [==============================] - 0s 7ms/step - loss: 1.4040 - accuracy: 0.6089 - val_loss: 1.5885 - val_accuracy: 0.6306\n",
            "Epoch 7/150\n",
            "8/8 [==============================] - 0s 5ms/step - loss: 1.3547 - accuracy: 0.6178 - val_loss: 1.5604 - val_accuracy: 0.6306\n",
            "Epoch 8/150\n",
            "8/8 [==============================] - 0s 7ms/step - loss: 1.3058 - accuracy: 0.6000 - val_loss: 1.5122 - val_accuracy: 0.5946\n",
            "Epoch 9/150\n",
            "8/8 [==============================] - 0s 8ms/step - loss: 1.2607 - accuracy: 0.5422 - val_loss: 1.4882 - val_accuracy: 0.4414\n",
            "Epoch 10/150\n",
            "8/8 [==============================] - 0s 5ms/step - loss: 1.2277 - accuracy: 0.5200 - val_loss: 1.4455 - val_accuracy: 0.4685\n",
            "Epoch 11/150\n",
            "8/8 [==============================] - 0s 7ms/step - loss: 1.1938 - accuracy: 0.5378 - val_loss: 1.3942 - val_accuracy: 0.5856\n",
            "Epoch 12/150\n",
            "8/8 [==============================] - 0s 5ms/step - loss: 1.1451 - accuracy: 0.6578 - val_loss: 1.3492 - val_accuracy: 0.7117\n",
            "Epoch 13/150\n",
            "8/8 [==============================] - 0s 8ms/step - loss: 1.1437 - accuracy: 0.7467 - val_loss: 1.3143 - val_accuracy: 0.7117\n",
            "Epoch 14/150\n",
            "8/8 [==============================] - 0s 5ms/step - loss: 1.0775 - accuracy: 0.7156 - val_loss: 1.2855 - val_accuracy: 0.6306\n",
            "Epoch 15/150\n",
            "8/8 [==============================] - 0s 7ms/step - loss: 1.0470 - accuracy: 0.6489 - val_loss: 1.2413 - val_accuracy: 0.6577\n",
            "Epoch 16/150\n",
            "8/8 [==============================] - 0s 5ms/step - loss: 1.0127 - accuracy: 0.7067 - val_loss: 1.2054 - val_accuracy: 0.7027\n",
            "Epoch 17/150\n",
            "8/8 [==============================] - 0s 8ms/step - loss: 0.9606 - accuracy: 0.7111 - val_loss: 1.1633 - val_accuracy: 0.7117\n",
            "Epoch 18/150\n",
            "8/8 [==============================] - 0s 6ms/step - loss: 0.9403 - accuracy: 0.7333 - val_loss: 1.1448 - val_accuracy: 0.7117\n",
            "Epoch 19/150\n",
            "8/8 [==============================] - 0s 6ms/step - loss: 0.9226 - accuracy: 0.7644 - val_loss: 1.1213 - val_accuracy: 0.7117\n",
            "Epoch 20/150\n",
            "8/8 [==============================] - 0s 6ms/step - loss: 0.9184 - accuracy: 0.7600 - val_loss: 1.0768 - val_accuracy: 0.7117\n",
            "Epoch 21/150\n",
            "8/8 [==============================] - 0s 9ms/step - loss: 0.8365 - accuracy: 0.7867 - val_loss: 1.0294 - val_accuracy: 0.7027\n",
            "Epoch 22/150\n",
            "8/8 [==============================] - 0s 5ms/step - loss: 0.8354 - accuracy: 0.7733 - val_loss: 1.0046 - val_accuracy: 0.7117\n",
            "Epoch 23/150\n",
            "8/8 [==============================] - 0s 7ms/step - loss: 0.8200 - accuracy: 0.7689 - val_loss: 0.9850 - val_accuracy: 0.7207\n",
            "Epoch 24/150\n",
            "8/8 [==============================] - 0s 5ms/step - loss: 0.8019 - accuracy: 0.7600 - val_loss: 0.9972 - val_accuracy: 0.7117\n",
            "Epoch 25/150\n",
            "8/8 [==============================] - 0s 5ms/step - loss: 0.7791 - accuracy: 0.7911 - val_loss: 0.9546 - val_accuracy: 0.7117\n",
            "Epoch 26/150\n",
            "8/8 [==============================] - 0s 5ms/step - loss: 0.7829 - accuracy: 0.7822 - val_loss: 0.9435 - val_accuracy: 0.7207\n",
            "Epoch 27/150\n",
            "8/8 [==============================] - 0s 7ms/step - loss: 0.7432 - accuracy: 0.7911 - val_loss: 0.9133 - val_accuracy: 0.7117\n",
            "Epoch 28/150\n",
            "8/8 [==============================] - 0s 5ms/step - loss: 0.7351 - accuracy: 0.7689 - val_loss: 0.8877 - val_accuracy: 0.7117\n",
            "Epoch 29/150\n",
            "8/8 [==============================] - 0s 5ms/step - loss: 0.7222 - accuracy: 0.7644 - val_loss: 0.8697 - val_accuracy: 0.7207\n",
            "Epoch 30/150\n",
            "8/8 [==============================] - 0s 5ms/step - loss: 0.7327 - accuracy: 0.7822 - val_loss: 0.8509 - val_accuracy: 0.7117\n",
            "Epoch 31/150\n",
            "8/8 [==============================] - 0s 8ms/step - loss: 0.7246 - accuracy: 0.7867 - val_loss: 0.8471 - val_accuracy: 0.7297\n",
            "Epoch 32/150\n",
            "8/8 [==============================] - 0s 7ms/step - loss: 0.6981 - accuracy: 0.8044 - val_loss: 0.8385 - val_accuracy: 0.7477\n",
            "Epoch 33/150\n",
            "8/8 [==============================] - 0s 7ms/step - loss: 0.6847 - accuracy: 0.7956 - val_loss: 0.8277 - val_accuracy: 0.7117\n",
            "Epoch 34/150\n",
            "8/8 [==============================] - 0s 5ms/step - loss: 0.6767 - accuracy: 0.8089 - val_loss: 0.8096 - val_accuracy: 0.7477\n",
            "Epoch 35/150\n",
            "8/8 [==============================] - 0s 5ms/step - loss: 0.6587 - accuracy: 0.8178 - val_loss: 0.7991 - val_accuracy: 0.7387\n",
            "Epoch 36/150\n",
            "8/8 [==============================] - 0s 8ms/step - loss: 0.6536 - accuracy: 0.8089 - val_loss: 0.7880 - val_accuracy: 0.7207\n",
            "Epoch 37/150\n",
            "8/8 [==============================] - 0s 5ms/step - loss: 0.6565 - accuracy: 0.7911 - val_loss: 0.7823 - val_accuracy: 0.7207\n",
            "Epoch 38/150\n",
            "8/8 [==============================] - 0s 5ms/step - loss: 0.6494 - accuracy: 0.8133 - val_loss: 0.7766 - val_accuracy: 0.7207\n",
            "Epoch 39/150\n",
            "8/8 [==============================] - 0s 5ms/step - loss: 0.6593 - accuracy: 0.7911 - val_loss: 0.7639 - val_accuracy: 0.7207\n",
            "Epoch 40/150\n",
            "8/8 [==============================] - 0s 6ms/step - loss: 0.6451 - accuracy: 0.7733 - val_loss: 0.8183 - val_accuracy: 0.7207\n",
            "Epoch 41/150\n",
            "8/8 [==============================] - 0s 6ms/step - loss: 0.6493 - accuracy: 0.7867 - val_loss: 0.7700 - val_accuracy: 0.7207\n",
            "Epoch 42/150\n",
            "8/8 [==============================] - 0s 6ms/step - loss: 0.6200 - accuracy: 0.7956 - val_loss: 0.7491 - val_accuracy: 0.7207\n",
            "Epoch 43/150\n",
            "8/8 [==============================] - 0s 6ms/step - loss: 0.6224 - accuracy: 0.7867 - val_loss: 0.6792 - val_accuracy: 0.7207\n",
            "Epoch 44/150\n",
            "8/8 [==============================] - 0s 6ms/step - loss: 0.6049 - accuracy: 0.8133 - val_loss: 0.6516 - val_accuracy: 0.7207\n",
            "Epoch 45/150\n",
            "8/8 [==============================] - 0s 6ms/step - loss: 0.6126 - accuracy: 0.8311 - val_loss: 0.6540 - val_accuracy: 0.7297\n",
            "Epoch 46/150\n",
            "8/8 [==============================] - 0s 5ms/step - loss: 0.6115 - accuracy: 0.8000 - val_loss: 0.6714 - val_accuracy: 0.7207\n",
            "Epoch 47/150\n",
            "8/8 [==============================] - 0s 6ms/step - loss: 0.5901 - accuracy: 0.8267 - val_loss: 0.7041 - val_accuracy: 0.7387\n",
            "Epoch 48/150\n",
            "8/8 [==============================] - 0s 5ms/step - loss: 0.6047 - accuracy: 0.8044 - val_loss: 0.7046 - val_accuracy: 0.7207\n",
            "Epoch 49/150\n",
            "8/8 [==============================] - 0s 8ms/step - loss: 0.5873 - accuracy: 0.7956 - val_loss: 0.7001 - val_accuracy: 0.7297\n",
            "Epoch 50/150\n",
            "8/8 [==============================] - 0s 6ms/step - loss: 0.6186 - accuracy: 0.7778 - val_loss: 0.7561 - val_accuracy: 0.7117\n",
            "Epoch 51/150\n",
            "8/8 [==============================] - 0s 6ms/step - loss: 0.6234 - accuracy: 0.7778 - val_loss: 0.7142 - val_accuracy: 0.7207\n",
            "Epoch 52/150\n",
            "8/8 [==============================] - 0s 5ms/step - loss: 0.5715 - accuracy: 0.8089 - val_loss: 0.6882 - val_accuracy: 0.7207\n",
            "Epoch 53/150\n",
            "8/8 [==============================] - 0s 5ms/step - loss: 0.5788 - accuracy: 0.7956 - val_loss: 0.6617 - val_accuracy: 0.7387\n",
            "Epoch 54/150\n",
            "8/8 [==============================] - 0s 5ms/step - loss: 0.5716 - accuracy: 0.8267 - val_loss: 0.6249 - val_accuracy: 0.7658\n",
            "Epoch 55/150\n",
            "8/8 [==============================] - 0s 6ms/step - loss: 0.5890 - accuracy: 0.8178 - val_loss: 0.6163 - val_accuracy: 0.7387\n",
            "Epoch 56/150\n",
            "8/8 [==============================] - 0s 6ms/step - loss: 0.5622 - accuracy: 0.8222 - val_loss: 0.6149 - val_accuracy: 0.7387\n",
            "Epoch 57/150\n",
            "8/8 [==============================] - 0s 7ms/step - loss: 0.5578 - accuracy: 0.8311 - val_loss: 0.6184 - val_accuracy: 0.7387\n",
            "Epoch 58/150\n",
            "8/8 [==============================] - 0s 5ms/step - loss: 0.5559 - accuracy: 0.8222 - val_loss: 0.6405 - val_accuracy: 0.7748\n",
            "Epoch 59/150\n",
            "8/8 [==============================] - 0s 6ms/step - loss: 0.5861 - accuracy: 0.7867 - val_loss: 0.6609 - val_accuracy: 0.7928\n",
            "Epoch 60/150\n",
            "8/8 [==============================] - 0s 6ms/step - loss: 0.5717 - accuracy: 0.8089 - val_loss: 0.6602 - val_accuracy: 0.7658\n",
            "Epoch 61/150\n",
            "8/8 [==============================] - 0s 5ms/step - loss: 0.5403 - accuracy: 0.8311 - val_loss: 0.6638 - val_accuracy: 0.7387\n",
            "Epoch 62/150\n",
            "8/8 [==============================] - 0s 8ms/step - loss: 0.5548 - accuracy: 0.8222 - val_loss: 0.6611 - val_accuracy: 0.7207\n",
            "Epoch 63/150\n",
            "8/8 [==============================] - 0s 5ms/step - loss: 0.5519 - accuracy: 0.8267 - val_loss: 0.6463 - val_accuracy: 0.7387\n",
            "Epoch 64/150\n",
            "8/8 [==============================] - 0s 8ms/step - loss: 0.5412 - accuracy: 0.8133 - val_loss: 0.6142 - val_accuracy: 0.7658\n",
            "Epoch 65/150\n",
            "8/8 [==============================] - 0s 5ms/step - loss: 0.5469 - accuracy: 0.8444 - val_loss: 0.5866 - val_accuracy: 0.7658\n",
            "Epoch 66/150\n",
            "8/8 [==============================] - 0s 8ms/step - loss: 0.5219 - accuracy: 0.8489 - val_loss: 0.5872 - val_accuracy: 0.7568\n",
            "Epoch 67/150\n",
            "8/8 [==============================] - 0s 5ms/step - loss: 0.5427 - accuracy: 0.8356 - val_loss: 0.6275 - val_accuracy: 0.7928\n",
            "Epoch 68/150\n",
            "8/8 [==============================] - 0s 5ms/step - loss: 0.5563 - accuracy: 0.8133 - val_loss: 0.6298 - val_accuracy: 0.8018\n",
            "Epoch 69/150\n",
            "8/8 [==============================] - 0s 5ms/step - loss: 0.5400 - accuracy: 0.8267 - val_loss: 0.6369 - val_accuracy: 0.7207\n",
            "Epoch 70/150\n",
            "8/8 [==============================] - 0s 8ms/step - loss: 0.5279 - accuracy: 0.8222 - val_loss: 0.6320 - val_accuracy: 0.7297\n",
            "Epoch 71/150\n",
            "8/8 [==============================] - 0s 5ms/step - loss: 0.5316 - accuracy: 0.8133 - val_loss: 0.6176 - val_accuracy: 0.7928\n",
            "Epoch 72/150\n",
            "8/8 [==============================] - 0s 5ms/step - loss: 0.5466 - accuracy: 0.8178 - val_loss: 0.6433 - val_accuracy: 0.7928\n",
            "Epoch 73/150\n",
            "8/8 [==============================] - 0s 5ms/step - loss: 0.5295 - accuracy: 0.8044 - val_loss: 0.6461 - val_accuracy: 0.7207\n",
            "Epoch 74/150\n",
            "8/8 [==============================] - 0s 5ms/step - loss: 0.5368 - accuracy: 0.8133 - val_loss: 0.6493 - val_accuracy: 0.7387\n",
            "Epoch 75/150\n",
            "8/8 [==============================] - 0s 8ms/step - loss: 0.5456 - accuracy: 0.8133 - val_loss: 0.6493 - val_accuracy: 0.7477\n",
            "Epoch 76/150\n",
            "8/8 [==============================] - 0s 5ms/step - loss: 0.5380 - accuracy: 0.8356 - val_loss: 0.6135 - val_accuracy: 0.7748\n",
            "Epoch 77/150\n",
            "8/8 [==============================] - 0s 8ms/step - loss: 0.5385 - accuracy: 0.8311 - val_loss: 0.6068 - val_accuracy: 0.7748\n",
            "Epoch 78/150\n",
            "8/8 [==============================] - 0s 5ms/step - loss: 0.5277 - accuracy: 0.8267 - val_loss: 0.6386 - val_accuracy: 0.8018\n",
            "Epoch 79/150\n",
            "8/8 [==============================] - 0s 6ms/step - loss: 0.5485 - accuracy: 0.7956 - val_loss: 0.6910 - val_accuracy: 0.7838\n",
            "Epoch 80/150\n",
            "8/8 [==============================] - 0s 8ms/step - loss: 0.5300 - accuracy: 0.8133 - val_loss: 0.6281 - val_accuracy: 0.7748\n",
            "Epoch 81/150\n",
            "8/8 [==============================] - 0s 6ms/step - loss: 0.5179 - accuracy: 0.8311 - val_loss: 0.6246 - val_accuracy: 0.7297\n",
            "Epoch 82/150\n",
            "8/8 [==============================] - 0s 6ms/step - loss: 0.5272 - accuracy: 0.8222 - val_loss: 0.6088 - val_accuracy: 0.7297\n",
            "Epoch 83/150\n",
            "8/8 [==============================] - 0s 8ms/step - loss: 0.5008 - accuracy: 0.8400 - val_loss: 0.5972 - val_accuracy: 0.7658\n",
            "Epoch 84/150\n",
            "8/8 [==============================] - 0s 8ms/step - loss: 0.5023 - accuracy: 0.8444 - val_loss: 0.5920 - val_accuracy: 0.7928\n",
            "Epoch 85/150\n",
            "8/8 [==============================] - 0s 7ms/step - loss: 0.4928 - accuracy: 0.8444 - val_loss: 0.5969 - val_accuracy: 0.8198\n",
            "Epoch 86/150\n",
            "8/8 [==============================] - 0s 6ms/step - loss: 0.5548 - accuracy: 0.8133 - val_loss: 0.7036 - val_accuracy: 0.7477\n",
            "Epoch 87/150\n",
            "8/8 [==============================] - 0s 5ms/step - loss: 0.5523 - accuracy: 0.7956 - val_loss: 0.6254 - val_accuracy: 0.7568\n",
            "Epoch 88/150\n",
            "8/8 [==============================] - 0s 5ms/step - loss: 0.5244 - accuracy: 0.8356 - val_loss: 0.5893 - val_accuracy: 0.7748\n",
            "Epoch 89/150\n",
            "8/8 [==============================] - 0s 5ms/step - loss: 0.4884 - accuracy: 0.8578 - val_loss: 0.6155 - val_accuracy: 0.8018\n",
            "Epoch 90/150\n",
            "8/8 [==============================] - 0s 8ms/step - loss: 0.5123 - accuracy: 0.8222 - val_loss: 0.6085 - val_accuracy: 0.8018\n",
            "Epoch 91/150\n",
            "8/8 [==============================] - 0s 6ms/step - loss: 0.5086 - accuracy: 0.8222 - val_loss: 0.6091 - val_accuracy: 0.7658\n",
            "Epoch 92/150\n",
            "8/8 [==============================] - 0s 5ms/step - loss: 0.4721 - accuracy: 0.8756 - val_loss: 0.6030 - val_accuracy: 0.7658\n",
            "Epoch 93/150\n",
            "8/8 [==============================] - 0s 6ms/step - loss: 0.5022 - accuracy: 0.8578 - val_loss: 0.5816 - val_accuracy: 0.7838\n",
            "Epoch 94/150\n",
            "8/8 [==============================] - 0s 8ms/step - loss: 0.5059 - accuracy: 0.8400 - val_loss: 0.5697 - val_accuracy: 0.8018\n",
            "Epoch 95/150\n",
            "8/8 [==============================] - 0s 6ms/step - loss: 0.4695 - accuracy: 0.8533 - val_loss: 0.5764 - val_accuracy: 0.8018\n",
            "Epoch 96/150\n",
            "8/8 [==============================] - 0s 5ms/step - loss: 0.4984 - accuracy: 0.8489 - val_loss: 0.6160 - val_accuracy: 0.7477\n",
            "Epoch 97/150\n",
            "8/8 [==============================] - 0s 6ms/step - loss: 0.5017 - accuracy: 0.8044 - val_loss: 0.5998 - val_accuracy: 0.7568\n",
            "Epoch 98/150\n",
            "8/8 [==============================] - 0s 6ms/step - loss: 0.5019 - accuracy: 0.8222 - val_loss: 0.5089 - val_accuracy: 0.8468\n",
            "Epoch 99/150\n",
            "8/8 [==============================] - 0s 6ms/step - loss: 0.4851 - accuracy: 0.8711 - val_loss: 0.5026 - val_accuracy: 0.8649\n",
            "Epoch 100/150\n",
            "8/8 [==============================] - 0s 6ms/step - loss: 0.4882 - accuracy: 0.8756 - val_loss: 0.5165 - val_accuracy: 0.8559\n",
            "Epoch 101/150\n",
            "8/8 [==============================] - 0s 5ms/step - loss: 0.5051 - accuracy: 0.8400 - val_loss: 0.5290 - val_accuracy: 0.8108\n",
            "Epoch 102/150\n",
            "8/8 [==============================] - 0s 5ms/step - loss: 0.4728 - accuracy: 0.8533 - val_loss: 0.5475 - val_accuracy: 0.8198\n",
            "Epoch 103/150\n",
            "8/8 [==============================] - 0s 6ms/step - loss: 0.4709 - accuracy: 0.8311 - val_loss: 0.6022 - val_accuracy: 0.7568\n",
            "Epoch 104/150\n",
            "8/8 [==============================] - 0s 9ms/step - loss: 0.5215 - accuracy: 0.8000 - val_loss: 0.5893 - val_accuracy: 0.7568\n",
            "Epoch 105/150\n",
            "8/8 [==============================] - 0s 9ms/step - loss: 0.4886 - accuracy: 0.8489 - val_loss: 0.5714 - val_accuracy: 0.7838\n",
            "Epoch 106/150\n",
            "8/8 [==============================] - 0s 6ms/step - loss: 0.4934 - accuracy: 0.8489 - val_loss: 0.5605 - val_accuracy: 0.7928\n",
            "Epoch 107/150\n",
            "8/8 [==============================] - 0s 8ms/step - loss: 0.4742 - accuracy: 0.8578 - val_loss: 0.5406 - val_accuracy: 0.8108\n",
            "Epoch 108/150\n",
            "8/8 [==============================] - 0s 6ms/step - loss: 0.4838 - accuracy: 0.8533 - val_loss: 0.4996 - val_accuracy: 0.8649\n",
            "Epoch 109/150\n",
            "8/8 [==============================] - 0s 5ms/step - loss: 0.4546 - accuracy: 0.8844 - val_loss: 0.5036 - val_accuracy: 0.8468\n",
            "Epoch 110/150\n",
            "8/8 [==============================] - 0s 5ms/step - loss: 0.4697 - accuracy: 0.8667 - val_loss: 0.5107 - val_accuracy: 0.8378\n",
            "Epoch 111/150\n",
            "8/8 [==============================] - 0s 7ms/step - loss: 0.4546 - accuracy: 0.8489 - val_loss: 0.5404 - val_accuracy: 0.8108\n",
            "Epoch 112/150\n",
            "8/8 [==============================] - 0s 7ms/step - loss: 0.4447 - accuracy: 0.8578 - val_loss: 0.5512 - val_accuracy: 0.8018\n",
            "Epoch 113/150\n",
            "8/8 [==============================] - 0s 9ms/step - loss: 0.4529 - accuracy: 0.8578 - val_loss: 0.5497 - val_accuracy: 0.7928\n",
            "Epoch 114/150\n",
            "8/8 [==============================] - 0s 8ms/step - loss: 0.4526 - accuracy: 0.8667 - val_loss: 0.5429 - val_accuracy: 0.8018\n",
            "Epoch 115/150\n",
            "8/8 [==============================] - 0s 5ms/step - loss: 0.4298 - accuracy: 0.8578 - val_loss: 0.5369 - val_accuracy: 0.8288\n",
            "Epoch 116/150\n",
            "8/8 [==============================] - 0s 5ms/step - loss: 0.4668 - accuracy: 0.8533 - val_loss: 0.5266 - val_accuracy: 0.8378\n",
            "Epoch 117/150\n",
            "8/8 [==============================] - 0s 5ms/step - loss: 0.4556 - accuracy: 0.8622 - val_loss: 0.5241 - val_accuracy: 0.8378\n",
            "Epoch 118/150\n",
            "8/8 [==============================] - 0s 5ms/step - loss: 0.4531 - accuracy: 0.8533 - val_loss: 0.5859 - val_accuracy: 0.8018\n",
            "Epoch 119/150\n",
            "8/8 [==============================] - 0s 8ms/step - loss: 0.4754 - accuracy: 0.8444 - val_loss: 0.5579 - val_accuracy: 0.8018\n",
            "Epoch 120/150\n",
            "8/8 [==============================] - 0s 8ms/step - loss: 0.4677 - accuracy: 0.8489 - val_loss: 0.4777 - val_accuracy: 0.8649\n",
            "Epoch 121/150\n",
            "8/8 [==============================] - 0s 9ms/step - loss: 0.4795 - accuracy: 0.8756 - val_loss: 0.4701 - val_accuracy: 0.8739\n",
            "Epoch 122/150\n",
            "8/8 [==============================] - 0s 8ms/step - loss: 0.4728 - accuracy: 0.8622 - val_loss: 0.5173 - val_accuracy: 0.8378\n",
            "Epoch 123/150\n",
            "8/8 [==============================] - 0s 5ms/step - loss: 0.4837 - accuracy: 0.8356 - val_loss: 0.5176 - val_accuracy: 0.8198\n",
            "Epoch 124/150\n",
            "8/8 [==============================] - 0s 5ms/step - loss: 0.4618 - accuracy: 0.8400 - val_loss: 0.5053 - val_accuracy: 0.8559\n",
            "Epoch 125/150\n",
            "8/8 [==============================] - 0s 8ms/step - loss: 0.4158 - accuracy: 0.8667 - val_loss: 0.5147 - val_accuracy: 0.8198\n",
            "Epoch 126/150\n",
            "8/8 [==============================] - 0s 6ms/step - loss: 0.4399 - accuracy: 0.8622 - val_loss: 0.5292 - val_accuracy: 0.8108\n",
            "Epoch 127/150\n",
            "8/8 [==============================] - 0s 5ms/step - loss: 0.4381 - accuracy: 0.8533 - val_loss: 0.5488 - val_accuracy: 0.7838\n",
            "Epoch 128/150\n",
            "8/8 [==============================] - 0s 5ms/step - loss: 0.4687 - accuracy: 0.8311 - val_loss: 0.5468 - val_accuracy: 0.8018\n",
            "Epoch 129/150\n",
            "8/8 [==============================] - 0s 9ms/step - loss: 0.4892 - accuracy: 0.8400 - val_loss: 0.5245 - val_accuracy: 0.8018\n",
            "Epoch 130/150\n",
            "8/8 [==============================] - 0s 8ms/step - loss: 0.4853 - accuracy: 0.8400 - val_loss: 0.4940 - val_accuracy: 0.8468\n",
            "Epoch 131/150\n",
            "8/8 [==============================] - 0s 5ms/step - loss: 0.4578 - accuracy: 0.8578 - val_loss: 0.5366 - val_accuracy: 0.8288\n",
            "Epoch 132/150\n",
            "8/8 [==============================] - 0s 7ms/step - loss: 0.4732 - accuracy: 0.8267 - val_loss: 0.5122 - val_accuracy: 0.8288\n",
            "Epoch 133/150\n",
            "8/8 [==============================] - 0s 6ms/step - loss: 0.4565 - accuracy: 0.8622 - val_loss: 0.5670 - val_accuracy: 0.8108\n",
            "Epoch 134/150\n",
            "8/8 [==============================] - 0s 5ms/step - loss: 0.5255 - accuracy: 0.7956 - val_loss: 0.5435 - val_accuracy: 0.8288\n",
            "Epoch 135/150\n",
            "8/8 [==============================] - 0s 8ms/step - loss: 0.4670 - accuracy: 0.8533 - val_loss: 0.5138 - val_accuracy: 0.8559\n",
            "Epoch 136/150\n",
            "8/8 [==============================] - 0s 8ms/step - loss: 0.4377 - accuracy: 0.8356 - val_loss: 0.5167 - val_accuracy: 0.8829\n",
            "Epoch 137/150\n",
            "8/8 [==============================] - 0s 5ms/step - loss: 0.4382 - accuracy: 0.8533 - val_loss: 0.5043 - val_accuracy: 0.8829\n",
            "Epoch 138/150\n",
            "8/8 [==============================] - 0s 6ms/step - loss: 0.4259 - accuracy: 0.8489 - val_loss: 0.4981 - val_accuracy: 0.8649\n",
            "Epoch 139/150\n",
            "8/8 [==============================] - 0s 6ms/step - loss: 0.4137 - accuracy: 0.8756 - val_loss: 0.4885 - val_accuracy: 0.8559\n",
            "Epoch 140/150\n",
            "8/8 [==============================] - 0s 8ms/step - loss: 0.4237 - accuracy: 0.8844 - val_loss: 0.4852 - val_accuracy: 0.8739\n",
            "Epoch 141/150\n",
            "8/8 [==============================] - 0s 5ms/step - loss: 0.4325 - accuracy: 0.8489 - val_loss: 0.4812 - val_accuracy: 0.8739\n",
            "Epoch 142/150\n",
            "8/8 [==============================] - 0s 8ms/step - loss: 0.4321 - accuracy: 0.8489 - val_loss: 0.4797 - val_accuracy: 0.8649\n",
            "Epoch 143/150\n",
            "8/8 [==============================] - 0s 7ms/step - loss: 0.4138 - accuracy: 0.8667 - val_loss: 0.4892 - val_accuracy: 0.8649\n",
            "Epoch 144/150\n",
            "8/8 [==============================] - 0s 6ms/step - loss: 0.4188 - accuracy: 0.8578 - val_loss: 0.4841 - val_accuracy: 0.8559\n",
            "Epoch 145/150\n",
            "8/8 [==============================] - 0s 6ms/step - loss: 0.4131 - accuracy: 0.8622 - val_loss: 0.4758 - val_accuracy: 0.8649\n",
            "Epoch 146/150\n",
            "8/8 [==============================] - 0s 6ms/step - loss: 0.4084 - accuracy: 0.8800 - val_loss: 0.4795 - val_accuracy: 0.8559\n",
            "Epoch 147/150\n",
            "8/8 [==============================] - 0s 8ms/step - loss: 0.4186 - accuracy: 0.8711 - val_loss: 0.4858 - val_accuracy: 0.8649\n",
            "Epoch 148/150\n",
            "8/8 [==============================] - 0s 6ms/step - loss: 0.4107 - accuracy: 0.8711 - val_loss: 0.4746 - val_accuracy: 0.8559\n",
            "Epoch 149/150\n",
            "8/8 [==============================] - 0s 7ms/step - loss: 0.4222 - accuracy: 0.8711 - val_loss: 0.4727 - val_accuracy: 0.8649\n",
            "Epoch 150/150\n",
            "8/8 [==============================] - 0s 7ms/step - loss: 0.4264 - accuracy: 0.8533 - val_loss: 0.4752 - val_accuracy: 0.8739\n"
          ],
          "name": "stdout"
        }
      ]
    },
    {
      "cell_type": "code",
      "metadata": {
        "colab": {
          "base_uri": "https://localhost:8080/",
          "height": 282
        },
        "id": "hSwOk8ugsTJa",
        "outputId": "44869620-3027-4d85-ccb7-9ebec5c9fa2f"
      },
      "source": [
        "plt.plot(r.history['loss'],label='loss')\n",
        "plt.plot(r.history['val_loss'],label='val_loss')\n",
        "plt.legend()"
      ],
      "execution_count": null,
      "outputs": [
        {
          "output_type": "execute_result",
          "data": {
            "text/plain": [
              "<matplotlib.legend.Legend at 0x7f5e2ccbb4d0>"
            ]
          },
          "metadata": {
            "tags": []
          },
          "execution_count": 143
        },
        {
          "output_type": "display_data",
          "data": {
            "image/png": "[encoded data removed]",
            "text/plain": [
              "<Figure size 432x288 with 1 Axes>"
            ]
          },
          "metadata": {
            "tags": [],
            "needs_background": "light"
          }
        }
      ]
    },
    {
      "cell_type": "code",
      "metadata": {
        "colab": {
          "base_uri": "https://localhost:8080/",
          "height": 282
        },
        "id": "OK_GxdwlyboN",
        "outputId": "f7235e46-0fc2-437c-e5ef-9157d77641ea"
      },
      "source": [
        "plt.plot(r.history['accuracy'],label='acc')\n",
        "plt.plot(r.history['val_accuracy'],label='val_accuracy')\n",
        "plt.legend()"
      ],
      "execution_count": null,
      "outputs": [
        {
          "output_type": "execute_result",
          "data": {
            "text/plain": [
              "<matplotlib.legend.Legend at 0x7f5e2cc3f050>"
            ]
          },
          "metadata": {
            "tags": []
          },
          "execution_count": 144
        },
        {
          "output_type": "display_data",
          "data": {
            "image/png": "[encoded data removed]",
            "text/plain": [
              "<Figure size 432x288 with 1 Axes>"
            ]
          },
          "metadata": {
            "tags": [],
            "needs_background": "light"
          }
        }
      ]
    }
  ]
}